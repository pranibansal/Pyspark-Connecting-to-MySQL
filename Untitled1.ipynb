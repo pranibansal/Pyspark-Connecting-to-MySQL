{
 "cells": [
  {
   "cell_type": "code",
   "execution_count": 1,
   "id": "1deee8a0",
   "metadata": {},
   "outputs": [],
   "source": [
    "import findspark\n",
    "findspark.init('/Users/pranibansal/Downloads/spark-3.4.0-bin-hadoop3')\n"
   ]
  },
  {
   "cell_type": "code",
   "execution_count": 2,
   "id": "57a93b55",
   "metadata": {},
   "outputs": [],
   "source": [
    "import pyspark"
   ]
  },
  {
   "cell_type": "code",
   "execution_count": 7,
   "id": "824cfd01",
   "metadata": {},
   "outputs": [],
   "source": [
    "from pyspark.sql import SparkSession"
   ]
  },
  {
   "cell_type": "code",
   "execution_count": 13,
   "id": "89218081",
   "metadata": {},
   "outputs": [],
   "source": [
    "spark = SparkSession.builder.master('local').appName('basicsqlconnection').getOrCreate()"
   ]
  },
  {
   "cell_type": "code",
   "execution_count": 10,
   "id": "80fbe839",
   "metadata": {},
   "outputs": [
    {
     "name": "stdout",
     "output_type": "stream",
     "text": [
      "Collecting mysql.connector\n",
      "  Downloading mysql-connector-2.2.9.tar.gz (11.9 MB)\n",
      "\u001b[2K     \u001b[90m━━━━━━━━━━━━━━━━━━━━━━━━━━━━━━━━━━━━━━━━\u001b[0m \u001b[32m11.9/11.9 MB\u001b[0m \u001b[31m19.9 MB/s\u001b[0m eta \u001b[36m0:00:00\u001b[0m00:01\u001b[0m00:01\u001b[0m\n",
      "\u001b[?25h  Preparing metadata (setup.py) ... \u001b[?25ldone\n",
      "\u001b[?25hBuilding wheels for collected packages: mysql.connector\n",
      "  Building wheel for mysql.connector (setup.py) ... \u001b[?25ldone\n",
      "\u001b[?25h  Created wheel for mysql.connector: filename=mysql_connector-2.2.9-cp39-cp39-macosx_10_9_x86_64.whl size=247972 sha256=34a7a8e141eadd48628aff5ad9e861425a6d2e39c56925e69a669aebdf06375d\n",
      "  Stored in directory: /Users/pranibansal/Library/Caches/pip/wheels/ed/d2/ef/350d6d5e22478e792288bdc128a34eb4bb062540097713cbab\n",
      "Successfully built mysql.connector\n",
      "Installing collected packages: mysql.connector\n",
      "Successfully installed mysql.connector-2.2.9\n",
      "\n",
      "\u001b[1m[\u001b[0m\u001b[34;49mnotice\u001b[0m\u001b[1;39;49m]\u001b[0m\u001b[39;49m A new release of pip available: \u001b[0m\u001b[31;49m22.3.1\u001b[0m\u001b[39;49m -> \u001b[0m\u001b[32;49m23.1.2\u001b[0m\n",
      "\u001b[1m[\u001b[0m\u001b[34;49mnotice\u001b[0m\u001b[1;39;49m]\u001b[0m\u001b[39;49m To update, run: \u001b[0m\u001b[32;49mpip install --upgrade pip\u001b[0m\n"
     ]
    }
   ],
   "source": [
    "!pip install mysql.connector"
   ]
  },
  {
   "cell_type": "code",
   "execution_count": 27,
   "id": "4ac66912",
   "metadata": {},
   "outputs": [],
   "source": [
    "import mysql.connector\n",
    "conn_object = mysql.connector.connect(host = \"localhost\", user = \"\", passowrd= \"\")"
   ]
  },
  {
   "cell_type": "code",
   "execution_count": 18,
   "id": "4097b81c",
   "metadata": {},
   "outputs": [],
   "source": [
    "df = spark.read.option('Header',True).csv('Data/airlines1.csv')"
   ]
  },
  {
   "cell_type": "code",
   "execution_count": 19,
   "id": "759da842",
   "metadata": {},
   "outputs": [
    {
     "name": "stdout",
     "output_type": "stream",
     "text": [
      "+---+----+-------+-----+----------+---------+----------+-----------------+------------------------+---------------------------+-----------+-------------------------------+---------------+------------------+------------------+------+--------------------+-----------+---------------+---------------+---------+-------------+----------------+----------------+----+--------------------+---------+-------------+--------------+-------+----------+-------+--------+---------------+--------+--------------------+----------+-------+---------+--------+------+----------+-------+--------+---------------+--------+------------------+----------+---------+----------------+--------+--------------+-----------------+-------+-------+--------+-------------+------------+------------+--------+-------------+-----------------+------------+-------------+---------------+------------------+--------------+--------------------+-----------+-----------+-----------+-------------+----------------+------------+--------------+----------------+-------------+-----------+-----------+-------------+----------------+------------+--------------+----------------+-------------+-----------+-----------+-------------+----------------+------------+--------------+----------------+-------------+-----------+-----------+-------------+----------------+------------+--------------+----------------+-------------+-----------+-----------+-------------+----------------+------------+--------------+----------------+-------------+-----------+\n",
      "|_c0|Year|Quarter|Month|DayofMonth|DayOfWeek|FlightDate|Reporting_Airline|DOT_ID_Reporting_Airline|IATA_CODE_Reporting_Airline|Tail_Number|Flight_Number_Reporting_Airline|OriginAirportID|OriginAirportSeqID|OriginCityMarketID|Origin|      OriginCityName|OriginState|OriginStateFips|OriginStateName|OriginWac|DestAirportID|DestAirportSeqID|DestCityMarketID|Dest|        DestCityName|DestState|DestStateFips| DestStateName|DestWac|CRSDepTime|DepTime|DepDelay|DepDelayMinutes|DepDel15|DepartureDelayGroups|DepTimeBlk|TaxiOut|WheelsOff|WheelsOn|TaxiIn|CRSArrTime|ArrTime|ArrDelay|ArrDelayMinutes|ArrDel15|ArrivalDelayGroups|ArrTimeBlk|Cancelled|CancellationCode|Diverted|CRSElapsedTime|ActualElapsedTime|AirTime|Flights|Distance|DistanceGroup|CarrierDelay|WeatherDelay|NASDelay|SecurityDelay|LateAircraftDelay|FirstDepTime|TotalAddGTime|LongestAddGTime|DivAirportLandings|DivReachedDest|DivActualElapsedTime|DivArrDelay|DivDistance|Div1Airport|Div1AirportID|Div1AirportSeqID|Div1WheelsOn|Div1TotalGTime|Div1LongestGTime|Div1WheelsOff|Div1TailNum|Div2Airport|Div2AirportID|Div2AirportSeqID|Div2WheelsOn|Div2TotalGTime|Div2LongestGTime|Div2WheelsOff|Div2TailNum|Div3Airport|Div3AirportID|Div3AirportSeqID|Div3WheelsOn|Div3TotalGTime|Div3LongestGTime|Div3WheelsOff|Div3TailNum|Div4Airport|Div4AirportID|Div4AirportSeqID|Div4WheelsOn|Div4TotalGTime|Div4LongestGTime|Div4WheelsOff|Div4TailNum|Div5Airport|Div5AirportID|Div5AirportSeqID|Div5WheelsOn|Div5TotalGTime|Div5LongestGTime|Div5WheelsOff|Div5TailNum|\n",
      "+---+----+-------+-----+----------+---------+----------+-----------------+------------------------+---------------------------+-----------+-------------------------------+---------------+------------------+------------------+------+--------------------+-----------+---------------+---------------+---------+-------------+----------------+----------------+----+--------------------+---------+-------------+--------------+-------+----------+-------+--------+---------------+--------+--------------------+----------+-------+---------+--------+------+----------+-------+--------+---------------+--------+------------------+----------+---------+----------------+--------+--------------+-----------------+-------+-------+--------+-------------+------------+------------+--------+-------------+-----------------+------------+-------------+---------------+------------------+--------------+--------------------+-----------+-----------+-----------+-------------+----------------+------------+--------------+----------------+-------------+-----------+-----------+-------------+----------------+------------+--------------+----------------+-------------+-----------+-----------+-------------+----------------+------------+--------------+----------------+-------------+-----------+-----------+-------------+----------------+------------+--------------+----------------+-------------+-----------+-----------+-------------+----------------+------------+--------------+----------------+-------------+-----------+\n",
      "|  0|1998|      1|    1|         2|        5|1998-01-02|               NW|                   19386|                         NW|     N297US|                            675|          13487|           1348701|             31650|   MSP|     Minneapolis, MN|         MN|           27.0|      Minnesota|       63|        14869|         1486902|           34614| SLC|  Salt Lake City, UT|       UT|         49.0|          Utah|     87|      1640| 1659.0|    19.0|           19.0|     1.0|                 1.0| 1600-1659|   24.0|   1723.0|  1856.0|   3.0|      1836| 1859.0|    23.0|           23.0|     1.0|               1.0| 1800-1859|      0.0|            null|     0.0|         176.0|            180.0|  153.0|    1.0|   991.0|            4|        null|        null|    null|         null|             null|        null|         null|           null|              null|          null|                null|       null|       null|       null|         null|            null|        null|          null|            null|         null|       null|       null|         null|            null|        null|          null|            null|         null|       null|       null|         null|            null|        null|          null|            null|         null|       null|       null|         null|            null|        null|          null|            null|         null|       null|       null|         null|            null|        null|          null|            null|         null|       null|\n",
      "|  1|2009|      2|    5|        28|        4|2009-05-28|               FL|                   20437|                         FL|     N946AT|                            671|          13342|           1334202|             33342|   MKE|       Milwaukee, WI|         WI|           55.0|      Wisconsin|       45|        13204|         1320401|           31454| MCO|         Orlando, FL|       FL|         12.0|       Florida|     33|      1204| 1202.0|    -2.0|            0.0|     0.0|                -1.0| 1200-1259|   10.0|   1212.0|  1533.0|   8.0|      1541| 1541.0|     0.0|            0.0|     0.0|               0.0| 1500-1559|      0.0|            null|     0.0|         157.0|            159.0|  141.0|    1.0|  1066.0|            5|        null|        null|    null|         null|             null|        null|         null|           null|               0.0|          null|                null|       null|       null|       null|         null|            null|        null|          null|            null|         null|       null|       null|         null|            null|        null|          null|            null|         null|       null|       null|         null|            null|        null|          null|            null|         null|       null|       null|         null|            null|        null|          null|            null|         null|       null|       null|         null|            null|        null|          null|            null|         null|       null|\n",
      "|  2|2013|      2|    6|        29|        6|2013-06-29|               MQ|                   20398|                         MQ|     N665MQ|                           3297|          11921|           1192102|             31921|   GJT|  Grand Junction, CO|         CO|            8.0|       Colorado|       82|        11298|         1129803|           30194| DFW|Dallas/Fort Worth...|       TX|         48.0|         Texas|     74|      1630| 1644.0|    14.0|           14.0|     0.0|                 0.0| 1600-1659|    9.0|   1653.0|  1936.0|   6.0|      1945| 1942.0|    -3.0|            0.0|     0.0|              -1.0| 1900-1959|      0.0|            null|     0.0|         135.0|            118.0|  103.0|    1.0|   773.0|            4|        null|        null|    null|         null|             null|        null|         null|           null|               0.0|          null|                null|       null|       null|       null|         null|            null|        null|          null|            null|         null|       null|       null|         null|            null|        null|          null|            null|         null|       null|       null|         null|            null|        null|          null|            null|         null|       null|       null|         null|            null|        null|          null|            null|         null|       null|       null|         null|            null|        null|          null|            null|         null|       null|\n",
      "|  3|2010|      3|    8|        31|        2|2010-08-31|               DL|                   19790|                         DL|     N6705Y|                           1806|          12892|           1289201|             32575|   LAX|     Los Angeles, CA|         CA|            6.0|     California|       91|        11433|         1143301|           31295| DTW|         Detroit, MI|       MI|         26.0|      Michigan|     43|      1305| 1305.0|     0.0|            0.0|     0.0|                 0.0| 1300-1359|   23.0|   1328.0|  2008.0|   7.0|      2035| 2015.0|   -20.0|            0.0|     0.0|              -2.0| 2000-2059|      0.0|            null|     0.0|         270.0|            250.0|  220.0|    1.0|  1979.0|            8|        null|        null|    null|         null|             null|        null|         null|           null|               0.0|          null|                null|       null|       null|       null|         null|            null|        null|          null|            null|         null|       null|       null|         null|            null|        null|          null|            null|         null|       null|       null|         null|            null|        null|          null|            null|         null|       null|       null|         null|            null|        null|          null|            null|         null|       null|       null|         null|            null|        null|          null|            null|         null|       null|\n",
      "|  4|2006|      1|    1|        15|        7|2006-01-15|               US|                   20355|                         US|     N504AU|                            465|          11618|           1161801|             31703|   EWR|          Newark, NJ|         NJ|           34.0|     New Jersey|       21|        11057|         1105702|           31057| CLT|       Charlotte, NC|       NC|         37.0|North Carolina|     36|      1820| 1911.0|    51.0|           51.0|     1.0|                 3.0| 1800-1859|   19.0|   1930.0|  2050.0|   8.0|      2026| 2058.0|    32.0|           32.0|     1.0|               2.0| 2000-2059|      0.0|            null|     0.0|         126.0|            107.0|   80.0|    1.0|   529.0|            3|         0.0|         0.0|     0.0|          0.0|             32.0|        null|         null|           null|              null|          null|                null|       null|       null|       null|         null|            null|        null|          null|            null|         null|       null|       null|         null|            null|        null|          null|            null|         null|       null|       null|         null|            null|        null|          null|            null|         null|       null|       null|         null|            null|        null|          null|            null|         null|       null|       null|         null|            null|        null|          null|            null|         null|       null|\n",
      "|  5|1995|      4|   11|        29|        3|1995-11-29|               DL|                   19790|                         DL|     N925DL|                           1198|          11298|           1129802|             30194|   DFW|Dallas/Fort Worth...|         TX|           48.0|          Texas|       74|        14814|         1481401|           30476| SHV|      Shreveport, LA|       LA|         22.0|     Louisiana|     72|       639|  639.0|     0.0|            0.0|     0.0|                 0.0| 0600-0659|   29.0|    708.0|   736.0|   5.0|       730|  741.0|    11.0|           11.0|     0.0|               0.0| 0700-0759|      0.0|            null|     0.0|          51.0|             62.0|   28.0|    1.0|   190.0|            1|        null|        null|    null|         null|             null|        null|         null|           null|              null|          null|                null|       null|       null|       null|         null|            null|        null|          null|            null|         null|       null|       null|         null|            null|        null|          null|            null|         null|       null|       null|         null|            null|        null|          null|            null|         null|       null|       null|         null|            null|        null|          null|            null|         null|       null|       null|         null|            null|        null|          null|            null|         null|       null|\n",
      "|  6|2006|      3|    8|         7|        1|2006-08-07|               CO|                   19704|                         CO|     N27724|                           1431|          10721|           1072101|             30721|   BOS|          Boston, MA|         MA|           25.0|  Massachusetts|       13|        11042|         1104201|           30647| CLE|       Cleveland, OH|       OH|         39.0|          Ohio|     44|      1755| 1751.0|    -4.0|            0.0|     0.0|                -1.0| 1700-1759|   33.0|   1824.0|  1958.0|   4.0|      2000| 2002.0|     2.0|            2.0|     0.0|               0.0| 2000-2059|      0.0|            null|     0.0|         125.0|            131.0|   94.0|    1.0|   563.0|            3|        null|        null|    null|         null|             null|        null|         null|           null|              null|          null|                null|       null|       null|       null|         null|            null|        null|          null|            null|         null|       null|       null|         null|            null|        null|          null|            null|         null|       null|       null|         null|            null|        null|          null|            null|         null|       null|       null|         null|            null|        null|          null|            null|         null|       null|       null|         null|            null|        null|          null|            null|         null|       null|\n",
      "|  7|2019|      2|    6|        11|        2|2019-06-11|               9E|                   20363|                         9E|     N927XJ|                           3459|          10397|           1039707|             30397|   ATL|         Atlanta, GA|         GA|           13.0|        Georgia|       34|        10868|         1086803|           30868| CAE|        Columbia, SC|       SC|         45.0|South Carolina|     37|      1950| 2331.0|   221.0|          221.0|     1.0|                12.0| 1900-1959|   19.0|   2350.0|    25.0|   6.0|      2057|   31.0|   214.0|          214.0|     1.0|              12.0| 2000-2059|      0.0|            null|     0.0|          67.0|             60.0|   35.0|    1.0|   192.0|            1|         0.0|         0.0|     0.0|          0.0|            214.0|        null|         null|           null|               0.0|          null|                null|       null|       null|       null|         null|            null|        null|          null|            null|         null|       null|       null|         null|            null|        null|          null|            null|         null|       null|       null|         null|            null|        null|          null|            null|         null|       null|       null|         null|            null|        null|          null|            null|         null|       null|       null|         null|            null|        null|          null|            null|         null|       null|\n",
      "|  8|2008|      3|    8|         3|        7|2008-08-03|               YV|                   20378|                         YV|     N522LR|                           7233|          13930|           1393001|             30977|   ORD|         Chicago, IL|         IL|           17.0|       Illinois|       41|        11042|         1104201|           30647| CLE|       Cleveland, OH|       OH|         39.0|          Ohio|     44|      1550| 1552.0|     2.0|            2.0|     0.0|                 0.0| 1500-1559|   26.0|   1618.0|  1817.0|   3.0|      1810| 1820.0|    10.0|           10.0|     0.0|               0.0| 1800-1859|      0.0|            null|     0.0|          80.0|             88.0|   59.0|    1.0|   316.0|            2|        null|        null|    null|         null|             null|        null|         null|           null|              null|          null|                null|       null|       null|       null|         null|            null|        null|          null|            null|         null|       null|       null|         null|            null|        null|          null|            null|         null|       null|       null|         null|            null|        null|          null|            null|         null|       null|       null|         null|            null|        null|          null|            null|         null|       null|       null|         null|            null|        null|          null|            null|         null|       null|\n",
      "|  9|2018|      1|    2|         8|        4|2018-02-08|               WN|                   19393|                         WN|     N8688J|                           5932|          13232|           1323202|             30977|   MDW|         Chicago, IL|         IL|           17.0|       Illinois|       41|        11259|         1125903|           30194| DAL|          Dallas, TX|       TX|         48.0|         Texas|     74|      2030| 2046.0|    16.0|           16.0|     1.0|                 1.0| 2000-2059|   34.0|   2120.0|  2314.0|   5.0|      2250| 2319.0|    29.0|           29.0|     1.0|               1.0| 2200-2259|      0.0|            null|     0.0|         140.0|            153.0|  114.0|    1.0|   793.0|            4|         0.0|         0.0|    13.0|          0.0|             16.0|        null|         null|           null|               0.0|          null|                null|       null|       null|       null|         null|            null|        null|          null|            null|         null|       null|       null|         null|            null|        null|          null|            null|         null|       null|       null|         null|            null|        null|          null|            null|         null|       null|       null|         null|            null|        null|          null|            null|         null|       null|       null|         null|            null|        null|          null|            null|         null|       null|\n",
      "| 10|1991|      4|   11|        21|        4|1991-11-21|               US|                   20355|                         US|       null|                           2135|          14679|           1467902|             33570|   SAN|       San Diego, CA|         CA|            6.0|     California|       91|        12892|         1289201|           32575| LAX|     Los Angeles, CA|       CA|          6.0|    California|     91|      1245| 1247.0|     2.0|            2.0|     0.0|                 0.0| 1200-1259|   null|     null|    null|  null|      1325| 1331.0|     6.0|            6.0|     0.0|               0.0| 1300-1359|      0.0|            null|     0.0|          40.0|             44.0|   null|    1.0|   109.0|            1|        null|        null|    null|         null|             null|        null|         null|           null|              null|          null|                null|       null|       null|       null|         null|            null|        null|          null|            null|         null|       null|       null|         null|            null|        null|          null|            null|         null|       null|       null|         null|            null|        null|          null|            null|         null|       null|       null|         null|            null|        null|          null|            null|         null|       null|       null|         null|            null|        null|          null|            null|         null|       null|\n",
      "| 11|2014|      2|    4|         3|        4|2014-04-03|               WN|                   19393|                         WN|     N374SW|                           1463|          11540|           1154003|             30615|   ELP|         El Paso, TX|         TX|           48.0|          Texas|       74|        11259|         1125903|           30194| DAL|          Dallas, TX|       TX|         48.0|         Texas|     74|      1025| 1025.0|     0.0|            0.0|     0.0|                 0.0| 1000-1059|   10.0|   1035.0|  1252.0|   3.0|      1300| 1255.0|    -5.0|            0.0|     0.0|              -1.0| 1300-1359|      0.0|            null|     0.0|          95.0|             90.0|   77.0|    1.0|   562.0|            3|        null|        null|    null|         null|             null|        null|         null|           null|               0.0|          null|                null|       null|       null|       null|         null|            null|        null|          null|            null|         null|       null|       null|         null|            null|        null|          null|            null|         null|       null|       null|         null|            null|        null|          null|            null|         null|       null|       null|         null|            null|        null|          null|            null|         null|       null|       null|         null|            null|        null|          null|            null|         null|       null|\n",
      "| 12|1994|      3|    7|        24|        7|1994-07-24|               AA|                   19805|                         AA|       null|                            830|          14843|           1484302|             34819|   SJU|        San Juan, PR|         PR|           72.0|    Puerto Rico|        3|        13303|         1330302|           32467| MIA|           Miami, FL|       FL|         12.0|       Florida|     33|      1245| 1242.0|    -3.0|            0.0|     0.0|                -1.0| 1200-1259|   null|     null|    null|  null|      1521| 1511.0|   -10.0|            0.0|     0.0|              -1.0| 1500-1559|      0.0|            null|     0.0|         156.0|            149.0|   null|    1.0|  1045.0|            5|        null|        null|    null|         null|             null|        null|         null|           null|              null|          null|                null|       null|       null|       null|         null|            null|        null|          null|            null|         null|       null|       null|         null|            null|        null|          null|            null|         null|       null|       null|         null|            null|        null|          null|            null|         null|       null|       null|         null|            null|        null|          null|            null|         null|       null|       null|         null|            null|        null|          null|            null|         null|       null|\n",
      "| 13|2013|      2|    6|        30|        7|2013-06-30|               OO|                   20304|                         OO|     N947SW|                           6474|          10140|           1014002|             30140|   ABQ|     Albuquerque, NM|         NM|           35.0|     New Mexico|       86|        12892|         1289203|           32575| LAX|     Los Angeles, CA|       CA|          6.0|    California|     91|      1601| 1557.0|    -4.0|            0.0|     0.0|                -1.0| 1600-1659|    6.0|   1603.0|  1638.0|   8.0|      1705| 1646.0|   -19.0|            0.0|     0.0|              -2.0| 1700-1759|      0.0|            null|     0.0|         124.0|            109.0|   95.0|    1.0|   677.0|            3|        null|        null|    null|         null|             null|        null|         null|           null|               0.0|          null|                null|       null|       null|       null|         null|            null|        null|          null|            null|         null|       null|       null|         null|            null|        null|          null|            null|         null|       null|       null|         null|            null|        null|          null|            null|         null|       null|       null|         null|            null|        null|          null|            null|         null|       null|       null|         null|            null|        null|          null|            null|         null|       null|\n",
      "| 14|2003|      4|   11|        21|        5|2003-11-21|               UA|                   19977|                         UA|     N308UA|                            674|          13930|           1393001|             30977|   ORD|         Chicago, IL|         IL|           17.0|       Illinois|       41|        12953|         1295301|           31703| LGA|        New York, NY|       NY|         36.0|      New York|     22|       900|  855.0|    -5.0|            0.0|     0.0|                -1.0| 0900-0959|   14.0|    909.0|  1148.0|   2.0|      1206| 1150.0|   -16.0|            0.0|     0.0|              -2.0| 1200-1259|      0.0|            null|     0.0|         126.0|            115.0|   99.0|    1.0|   733.0|            3|        null|        null|    null|         null|             null|        null|         null|           null|              null|          null|                null|       null|       null|       null|         null|            null|        null|          null|            null|         null|       null|       null|         null|            null|        null|          null|            null|         null|       null|       null|         null|            null|        null|          null|            null|         null|       null|       null|         null|            null|        null|          null|            null|         null|       null|       null|         null|            null|        null|          null|            null|         null|       null|\n",
      "| 15|1988|      2|    4|         4|        1|1988-04-04|               PI|                   19822|                         PI|       null|                            362|          11995|           1199501|             31995|   GSO|Greensboro/High P...|         NC|           37.0| North Carolina|       36|        10821|         1082102|           30852| BWI|       Baltimore, MD|       MD|         24.0|      Maryland|     35|       630|  631.0|     1.0|            1.0|     0.0|                 0.0| 0600-0659|   null|     null|    null|  null|       728|  737.0|     9.0|            9.0|     0.0|               0.0| 0700-0759|      0.0|            null|     0.0|          58.0|             66.0|   null|    1.0|   278.0|            2|        null|        null|    null|         null|             null|        null|         null|           null|              null|          null|                null|       null|       null|       null|         null|            null|        null|          null|            null|         null|       null|       null|         null|            null|        null|          null|            null|         null|       null|       null|         null|            null|        null|          null|            null|         null|       null|       null|         null|            null|        null|          null|            null|         null|       null|       null|         null|            null|        null|          null|            null|         null|       null|\n",
      "| 16|2007|      3|    9|         5|        3|2007-09-05|               NW|                   19386|                         NW|     N8928E|                           1678|          11433|           1143301|             31295|   DTW|         Detroit, MI|         MI|           26.0|       Michigan|       43|        13184|         1318402|           33184| MBS|Saginaw/Bay City/...|       MI|         26.0|      Michigan|     43|      1201| 1150.0|   -11.0|            0.0|     0.0|                -1.0| 1200-1259|   20.0|   1210.0|  1234.0|   5.0|      1246| 1239.0|    -7.0|            0.0|     0.0|              -1.0| 1200-1259|      0.0|            null|     0.0|          45.0|             49.0|   24.0|    1.0|    98.0|            1|        null|        null|    null|         null|             null|        null|         null|           null|              null|          null|                null|       null|       null|       null|         null|            null|        null|          null|            null|         null|       null|       null|         null|            null|        null|          null|            null|         null|       null|       null|         null|            null|        null|          null|            null|         null|       null|       null|         null|            null|        null|          null|            null|         null|       null|       null|         null|            null|        null|          null|            null|         null|       null|\n",
      "| 17|2015|      3|    9|         5|        6|2015-09-05|               AS|                   19930|                         AS|     N589AS|                            413|          14869|           1486903|             34614|   SLC|  Salt Lake City, UT|         UT|           49.0|           Utah|       87|        14747|         1474703|           30559| SEA|         Seattle, WA|       WA|         53.0|    Washington|     93|      1745| 1733.0|   -12.0|            0.0|     0.0|                -1.0| 1700-1759|    9.0|   1742.0|  1824.0|   8.0|      1855| 1832.0|   -23.0|            0.0|     0.0|              -2.0| 1800-1859|      0.0|            null|     0.0|         130.0|            119.0|  102.0|    1.0|   689.0|            3|        null|        null|    null|         null|             null|        null|         null|           null|               0.0|          null|                null|       null|       null|       null|         null|            null|        null|          null|            null|         null|       null|       null|         null|            null|        null|          null|            null|         null|       null|       null|         null|            null|        null|          null|            null|         null|       null|       null|         null|            null|        null|          null|            null|         null|       null|       null|         null|            null|        null|          null|            null|         null|       null|\n",
      "| 18|2006|      1|    1|        28|        6|2006-01-28|               UA|                   19977|                         UA|     N426UA|                            210|          12892|           1289201|             32575|   LAX|     Los Angeles, CA|         CA|            6.0|     California|       91|        12264|         1226401|           30852| IAD|      Washington, DC|       VA|         51.0|      Virginia|     38|      1545| 1542.0|    -3.0|            0.0|     0.0|                -1.0| 1500-1559|   11.0|   1553.0|  2308.0|   5.0|      2327| 2313.0|   -14.0|            0.0|     0.0|              -1.0| 2300-2359|      0.0|            null|     0.0|         282.0|            271.0|  255.0|    1.0|  2288.0|           10|        null|        null|    null|         null|             null|        null|         null|           null|              null|          null|                null|       null|       null|       null|         null|            null|        null|          null|            null|         null|       null|       null|         null|            null|        null|          null|            null|         null|       null|       null|         null|            null|        null|          null|            null|         null|       null|       null|         null|            null|        null|          null|            null|         null|       null|       null|         null|            null|        null|          null|            null|         null|       null|\n",
      "| 19|2017|      3|    7|        26|        3|2017-07-26|               WN|                   19393|                         WN|     N252WN|                            995|          14893|           1489302|             33192|   SMF|      Sacramento, CA|         CA|            6.0|     California|       91|        12892|         1289205|           32575| LAX|     Los Angeles, CA|       CA|          6.0|    California|     91|      1535|   null|    null|           null|    null|                null| 1500-1559|   null|     null|    null|  null|      1700|   null|    null|           null|    null|              null| 1700-1759|      1.0|               A|     0.0|          85.0|             null|   null|    1.0|   373.0|            2|        null|        null|    null|         null|             null|        null|         null|           null|               0.0|          null|                null|       null|       null|       null|         null|            null|        null|          null|            null|         null|       null|       null|         null|            null|        null|          null|            null|         null|       null|       null|         null|            null|        null|          null|            null|         null|       null|       null|         null|            null|        null|          null|            null|         null|       null|       null|         null|            null|        null|          null|            null|         null|       null|\n",
      "+---+----+-------+-----+----------+---------+----------+-----------------+------------------------+---------------------------+-----------+-------------------------------+---------------+------------------+------------------+------+--------------------+-----------+---------------+---------------+---------+-------------+----------------+----------------+----+--------------------+---------+-------------+--------------+-------+----------+-------+--------+---------------+--------+--------------------+----------+-------+---------+--------+------+----------+-------+--------+---------------+--------+------------------+----------+---------+----------------+--------+--------------+-----------------+-------+-------+--------+-------------+------------+------------+--------+-------------+-----------------+------------+-------------+---------------+------------------+--------------+--------------------+-----------+-----------+-----------+-------------+----------------+------------+--------------+----------------+-------------+-----------+-----------+-------------+----------------+------------+--------------+----------------+-------------+-----------+-----------+-------------+----------------+------------+--------------+----------------+-------------+-----------+-----------+-------------+----------------+------------+--------------+----------------+-------------+-----------+-----------+-------------+----------------+------------+--------------+----------------+-------------+-----------+\n",
      "only showing top 20 rows\n",
      "\n"
     ]
    },
    {
     "name": "stderr",
     "output_type": "stream",
     "text": [
      "23/06/01 20:38:10 WARN CSVHeaderChecker: CSV header does not conform to the schema.\n",
      " Header: , Year, Quarter, Month, DayofMonth, DayOfWeek, FlightDate, Reporting_Airline, DOT_ID_Reporting_Airline, IATA_CODE_Reporting_Airline, Tail_Number, Flight_Number_Reporting_Airline, OriginAirportID, OriginAirportSeqID, OriginCityMarketID, Origin, OriginCityName, OriginState, OriginStateFips, OriginStateName, OriginWac, DestAirportID, DestAirportSeqID, DestCityMarketID, Dest, DestCityName, DestState, DestStateFips, DestStateName, DestWac, CRSDepTime, DepTime, DepDelay, DepDelayMinutes, DepDel15, DepartureDelayGroups, DepTimeBlk, TaxiOut, WheelsOff, WheelsOn, TaxiIn, CRSArrTime, ArrTime, ArrDelay, ArrDelayMinutes, ArrDel15, ArrivalDelayGroups, ArrTimeBlk, Cancelled, CancellationCode, Diverted, CRSElapsedTime, ActualElapsedTime, AirTime, Flights, Distance, DistanceGroup, CarrierDelay, WeatherDelay, NASDelay, SecurityDelay, LateAircraftDelay, FirstDepTime, TotalAddGTime, LongestAddGTime, DivAirportLandings, DivReachedDest, DivActualElapsedTime, DivArrDelay, DivDistance, Div1Airport, Div1AirportID, Div1AirportSeqID, Div1WheelsOn, Div1TotalGTime, Div1LongestGTime, Div1WheelsOff, Div1TailNum, Div2Airport, Div2AirportID, Div2AirportSeqID, Div2WheelsOn, Div2TotalGTime, Div2LongestGTime, Div2WheelsOff, Div2TailNum, Div3Airport, Div3AirportID, Div3AirportSeqID, Div3WheelsOn, Div3TotalGTime, Div3LongestGTime, Div3WheelsOff, Div3TailNum, Div4Airport, Div4AirportID, Div4AirportSeqID, Div4WheelsOn, Div4TotalGTime, Div4LongestGTime, Div4WheelsOff, Div4TailNum, Div5Airport, Div5AirportID, Div5AirportSeqID, Div5WheelsOn, Div5TotalGTime, Div5LongestGTime, Div5WheelsOff, Div5TailNum\n",
      " Schema: _c0, Year, Quarter, Month, DayofMonth, DayOfWeek, FlightDate, Reporting_Airline, DOT_ID_Reporting_Airline, IATA_CODE_Reporting_Airline, Tail_Number, Flight_Number_Reporting_Airline, OriginAirportID, OriginAirportSeqID, OriginCityMarketID, Origin, OriginCityName, OriginState, OriginStateFips, OriginStateName, OriginWac, DestAirportID, DestAirportSeqID, DestCityMarketID, Dest, DestCityName, DestState, DestStateFips, DestStateName, DestWac, CRSDepTime, DepTime, DepDelay, DepDelayMinutes, DepDel15, DepartureDelayGroups, DepTimeBlk, TaxiOut, WheelsOff, WheelsOn, TaxiIn, CRSArrTime, ArrTime, ArrDelay, ArrDelayMinutes, ArrDel15, ArrivalDelayGroups, ArrTimeBlk, Cancelled, CancellationCode, Diverted, CRSElapsedTime, ActualElapsedTime, AirTime, Flights, Distance, DistanceGroup, CarrierDelay, WeatherDelay, NASDelay, SecurityDelay, LateAircraftDelay, FirstDepTime, TotalAddGTime, LongestAddGTime, DivAirportLandings, DivReachedDest, DivActualElapsedTime, DivArrDelay, DivDistance, Div1Airport, Div1AirportID, Div1AirportSeqID, Div1WheelsOn, Div1TotalGTime, Div1LongestGTime, Div1WheelsOff, Div1TailNum, Div2Airport, Div2AirportID, Div2AirportSeqID, Div2WheelsOn, Div2TotalGTime, Div2LongestGTime, Div2WheelsOff, Div2TailNum, Div3Airport, Div3AirportID, Div3AirportSeqID, Div3WheelsOn, Div3TotalGTime, Div3LongestGTime, Div3WheelsOff, Div3TailNum, Div4Airport, Div4AirportID, Div4AirportSeqID, Div4WheelsOn, Div4TotalGTime, Div4LongestGTime, Div4WheelsOff, Div4TailNum, Div5Airport, Div5AirportID, Div5AirportSeqID, Div5WheelsOn, Div5TotalGTime, Div5LongestGTime, Div5WheelsOff, Div5TailNum\n",
      "Expected: _c0 but found: \n",
      "CSV file: file:///Users/pranibansal/Downloads/spark-3.4.0-bin-hadoop3/Data/airlines1.csv\n"
     ]
    }
   ],
   "source": [
    "df.show()"
   ]
  },
  {
   "cell_type": "code",
   "execution_count": 29,
   "id": "388c5749",
   "metadata": {},
   "outputs": [
    {
     "name": "stdout",
     "output_type": "stream",
     "text": [
      "+-------+----------+---------+\n",
      "|Quarter|DayofMonth|DayOfWeek|\n",
      "+-------+----------+---------+\n",
      "|      1|         2|        5|\n",
      "|      2|        28|        4|\n",
      "|      2|        29|        6|\n",
      "|      3|        31|        2|\n",
      "|      1|        15|        7|\n",
      "+-------+----------+---------+\n",
      "only showing top 5 rows\n",
      "\n"
     ]
    }
   ],
   "source": [
    "df.select(\"Quarter\",\"DayofMonth\",\"DayOfWeek\").show(5)"
   ]
  },
  {
   "cell_type": "code",
   "execution_count": 36,
   "id": "4706de3d",
   "metadata": {},
   "outputs": [
    {
     "name": "stdout",
     "output_type": "stream",
     "text": [
      "+--------------------+-----+\n",
      "|     OriginStateName|count|\n",
      "+--------------------+-----+\n",
      "|                Utah|  853|\n",
      "|              Hawaii|  549|\n",
      "| U.S. Virgin Islands|   38|\n",
      "|           Minnesota| 1166|\n",
      "|U.S. Pacific Trus...|    9|\n",
      "|                Ohio| 1020|\n",
      "|              Oregon|  519|\n",
      "|            Arkansas|  193|\n",
      "|               Texas| 5530|\n",
      "|        North Dakota|   77|\n",
      "|                null|   20|\n",
      "|        Pennsylvania| 1563|\n",
      "|         Connecticut|  247|\n",
      "|            Nebraska|  188|\n",
      "|             Vermont|   43|\n",
      "|              Nevada| 1308|\n",
      "|         Puerto Rico|  188|\n",
      "|          Washington|  999|\n",
      "|            Illinois| 3201|\n",
      "|            Oklahoma|  384|\n",
      "+--------------------+-----+\n",
      "only showing top 20 rows\n",
      "\n"
     ]
    }
   ],
   "source": [
    "df.select('OriginStateName').groupBy('OriginStateName').count().show()"
   ]
  },
  {
   "cell_type": "code",
   "execution_count": 25,
   "id": "b451bbb9",
   "metadata": {},
   "outputs": [],
   "source": [
    "#create cursor for executing query\n",
    "db_cursor = conn_object.cursor()\n",
    "#create database\n",
    "db_cursor.execute(\"CREATE DATABASE flight;\")"
   ]
  },
  {
   "cell_type": "code",
   "execution_count": 26,
   "id": "e3433aa4",
   "metadata": {},
   "outputs": [],
   "source": [
    "#write data to mysql database\n",
    "df.write.format('jdbc').options(url='jdbc:mysql://localhost:3306/flight',\n",
    "      driver='com.mysql.jdbc.Driver',\n",
    "      dbtable='Airline',\n",
    "      user='root',\n",
    "      password='')"
   ]
  },
  {
   "cell_type": "code",
   "execution_count": null,
   "id": "a360c644",
   "metadata": {},
   "outputs": [],
   "source": [
    "df2 = spark.read.format(\"jdbc\").option(\"url\", \"jdbc:mysql://localhost:3306/demodb5\") \\\n",
    "    .option(\"driver\", \"com.mysql.jdbc.Driver\").option(\"dbtable\", \"Airline\") \\\n",
    "    .option(\"user\", \"root\").option(\"password\", \"\").load()"
   ]
  }
 ],
 "metadata": {
  "kernelspec": {
   "display_name": "Python 3.9.7 ('base')",
   "language": "python",
   "name": "python397jvsc74a57bd04090bb9dea958443c796ed706d0ebc3b46bb5181ea941ef1d87768496669018a"
  },
  "language_info": {
   "codemirror_mode": {
    "name": "ipython",
    "version": 3
   },
   "file_extension": ".py",
   "mimetype": "text/x-python",
   "name": "python",
   "nbconvert_exporter": "python",
   "pygments_lexer": "ipython3",
   "version": "3.9.7"
  }
 },
 "nbformat": 4,
 "nbformat_minor": 5
}
